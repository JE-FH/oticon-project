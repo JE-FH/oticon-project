{
 "cells": [
  {
   "cell_type": "code",
   "execution_count": 33,
   "metadata": {},
   "outputs": [],
   "source": [
    "import tensorflow as tf\n",
    "import numpy as np"
   ]
  },
  {
   "cell_type": "markdown",
   "metadata": {},
   "source": [
    "Vi starter med at loaded den givne data ind. Her er dataen sepereret i lyd med musik og lyd uden musik. Det skal vi så sætte sammen i et array og lave en array som indeholder om hvilken type hver styk data er. Her kan vi bruge numpy siden hver fil er i .npy format"
   ]
  },
  {
   "cell_type": "code",
   "execution_count": 34,
   "metadata": {},
   "outputs": [],
   "source": [
    "music_data = np.load(\"music_data.npy\")\n",
    "other_data = np.load(\"other_data.npy\")\n",
    "test_data = np.load(\"test_data.npy\")"
   ]
  },
  {
   "cell_type": "markdown",
   "metadata": {},
   "source": [
    "Data layoutet er her $10500$ 2d arrays af $30\\times79$ som repræsentere et log-mel spektogram udregnet fra den givne lyd sample. $x$ dimensionen er frekvens båndene mens $y$ er tids rammen"
   ]
  },
  {
   "cell_type": "markdown",
   "metadata": {},
   "source": [
    "Nu skal vi sætte `music_data` og `other_data` sammen til et array og lave en array som indeholder hvilken type hver lyd sample er. Vi vil også gerne have noget test data så vi kan evaluere hvor godt netværket er uden at overfitte Det gør vi ved at efterlade 1000 fra `music_dat` og `other_data`"
   ]
  },
  {
   "cell_type": "code",
   "execution_count": 35,
   "metadata": {},
   "outputs": [],
   "source": [
    "music_train_data = music_data[0: -1000]\n",
    "other_train_data = other_data[0: -1000]\n",
    "train_data = (\n",
    "\tnp.concatenate((music_train_data, other_train_data)),\n",
    "\tnp.concatenate((\n",
    "\t\tnp.full((len(music_train_data), 2), (1, 0)), \n",
    "\t\tnp.full((len(other_train_data), 2), (0, 1))\n",
    "\t))\n",
    ")\t\n",
    "\n",
    "music_test_data = music_data[len(music_data) - 1000:None]\n",
    "other_test_data = other_data[len(other_data) - 1000:None]\n",
    "test_data = (\n",
    "\tnp.concatenate((music_test_data, other_test_data)),\n",
    "\tnp.concatenate((\n",
    "\t\tnp.full((len(music_test_data), 2), (1, 0)),\n",
    "\t\tnp.full((len(other_test_data), 2), (0, 1))\n",
    "\t))\n",
    ")\n"
   ]
  },
  {
   "cell_type": "markdown",
   "metadata": {},
   "source": [
    "Nu har vi lavet dataset til test og træning, nu skal vi sætte vores model op"
   ]
  },
  {
   "cell_type": "code",
   "execution_count": 36,
   "metadata": {},
   "outputs": [
    {
     "name": "stdout",
     "output_type": "stream",
     "text": [
      "Model: \"sequential_3\"\n",
      "_________________________________________________________________\n",
      " Layer (type)                Output Shape              Param #   \n",
      "=================================================================\n",
      " reshape_3 (Reshape)         (None, 30, 79, 1)         0         \n",
      "                                                                 \n",
      " conv2d_9 (Conv2D)           (None, 28, 77, 3)         30        \n",
      "                                                                 \n",
      " max_pooling2d_9 (MaxPooling  (None, 14, 38, 3)        0         \n",
      " 2D)                                                             \n",
      "                                                                 \n",
      " conv2d_10 (Conv2D)          (None, 12, 36, 32)        896       \n",
      "                                                                 \n",
      " max_pooling2d_10 (MaxPoolin  (None, 6, 18, 32)        0         \n",
      " g2D)                                                            \n",
      "                                                                 \n",
      " conv2d_11 (Conv2D)          (None, 4, 16, 64)         18496     \n",
      "                                                                 \n",
      " max_pooling2d_11 (MaxPoolin  (None, 2, 8, 64)         0         \n",
      " g2D)                                                            \n",
      "                                                                 \n",
      " flatten_3 (Flatten)         (None, 1024)              0         \n",
      "                                                                 \n",
      " dense_7 (Dense)             (None, 2)                 2050      \n",
      "                                                                 \n",
      "=================================================================\n",
      "Total params: 21,472\n",
      "Trainable params: 21,472\n",
      "Non-trainable params: 0\n",
      "_________________________________________________________________\n"
     ]
    }
   ],
   "source": [
    "model = tf.keras.models.Sequential([\n",
    "\ttf.keras.layers.Reshape((30, 79, 1), input_shape = (30, 79)),\n",
    "\ttf.keras.layers.Conv2D(3, (3, 3), activation = \"relu\"),\n",
    "\ttf.keras.layers.MaxPool2D(),\n",
    "\ttf.keras.layers.Conv2D(32, (3, 3), activation = \"relu\"),\n",
    "\ttf.keras.layers.MaxPool2D(),\n",
    "\ttf.keras.layers.Conv2D(64, (3, 3), activation = \"relu\"),\n",
    "\ttf.keras.layers.MaxPool2D(),\n",
    "\ttf.keras.layers.Flatten(),\n",
    "\t#tf.keras.layers.Dense(1024, activation = \"relu\"),\n",
    "\t#tf.keras.layers.Dense(512, activation = \"relu\"),\n",
    "\ttf.keras.layers.Dense(2, activation = \"softmax\")\n",
    "])\n",
    "\n",
    "model.build(input_shape=(30, 79))\n",
    "\n",
    "model.summary()"
   ]
  },
  {
   "cell_type": "markdown",
   "metadata": {},
   "source": [
    "Nu hvor vi har en model, så skal den bare trænes"
   ]
  },
  {
   "cell_type": "code",
   "execution_count": 37,
   "metadata": {},
   "outputs": [
    {
     "data": {
      "text/plain": [
       "array([[7.4873106e-03, 9.9251270e-01],\n",
       "       [3.5908768e-01, 6.4091235e-01],\n",
       "       [4.1603707e-02, 9.5839632e-01],\n",
       "       [7.9988167e-03, 9.9200118e-01],\n",
       "       [2.8759198e-02, 9.7124082e-01],\n",
       "       [5.1381388e-03, 9.9486190e-01],\n",
       "       [1.7684403e-01, 8.2315600e-01],\n",
       "       [5.7530687e-03, 9.9424696e-01],\n",
       "       [1.9648224e-01, 8.0351776e-01],\n",
       "       [1.5700408e-04, 9.9984300e-01]], dtype=float32)"
      ]
     },
     "execution_count": 37,
     "metadata": {},
     "output_type": "execute_result"
    }
   ],
   "source": [
    "predictions = model(train_data[0][:10]).numpy()\n",
    "predictions"
   ]
  },
  {
   "cell_type": "markdown",
   "metadata": {},
   "source": [
    "Nu laver vi en loss funktion, siden vi kun har et output så bruger vi binarycrossentropy"
   ]
  },
  {
   "cell_type": "code",
   "execution_count": 38,
   "metadata": {},
   "outputs": [],
   "source": [
    "model.compile(optimizer='adam', loss='CategoricalCrossentropy', metrics=['accuracy'])"
   ]
  },
  {
   "cell_type": "markdown",
   "metadata": {},
   "source": [
    "Så træner vi modellen med dataen over 10 epochs"
   ]
  },
  {
   "cell_type": "code",
   "execution_count": 39,
   "metadata": {},
   "outputs": [
    {
     "name": "stdout",
     "output_type": "stream",
     "text": [
      "Epoch 1/10\n",
      "594/594 [==============================] - 9s 15ms/step - loss: 0.4933 - accuracy: 0.8043\n",
      "Epoch 2/10\n",
      "594/594 [==============================] - 9s 16ms/step - loss: 0.1924 - accuracy: 0.9220\n",
      "Epoch 3/10\n",
      "594/594 [==============================] - 9s 14ms/step - loss: 0.1441 - accuracy: 0.9462\n",
      "Epoch 4/10\n",
      "594/594 [==============================] - 9s 15ms/step - loss: 0.1084 - accuracy: 0.9603\n",
      "Epoch 5/10\n",
      "594/594 [==============================] - 9s 15ms/step - loss: 0.0863 - accuracy: 0.9697\n",
      "Epoch 6/10\n",
      "594/594 [==============================] - 9s 16ms/step - loss: 0.0750 - accuracy: 0.9725\n",
      "Epoch 7/10\n",
      "594/594 [==============================] - 9s 15ms/step - loss: 0.0648 - accuracy: 0.9770\n",
      "Epoch 8/10\n",
      "594/594 [==============================] - 9s 15ms/step - loss: 0.0527 - accuracy: 0.9815\n",
      "Epoch 9/10\n",
      "594/594 [==============================] - 9s 15ms/step - loss: 0.0524 - accuracy: 0.9811\n",
      "Epoch 10/10\n",
      "594/594 [==============================] - 9s 15ms/step - loss: 0.0451 - accuracy: 0.9832\n"
     ]
    }
   ],
   "source": [
    "history = model.fit(train_data[0], train_data[1], epochs=10)"
   ]
  },
  {
   "cell_type": "code",
   "execution_count": 40,
   "metadata": {},
   "outputs": [
    {
     "name": "stdout",
     "output_type": "stream",
     "text": [
      "594/594 [==============================] - 5s 8ms/step - loss: 0.0328 - accuracy: 0.9888\n",
      "63/63 [==============================] - 0s 7ms/step - loss: 0.0563 - accuracy: 0.9810\n",
      "Training set accuracy 98.884% and loss: 3.281%\n",
      "Test set accuracy 98.100% and loss: 5.635%\n"
     ]
    }
   ],
   "source": [
    "train_evaluation = model.evaluate(train_data[0], train_data[1])\n",
    "test_evaluation = model.evaluate(test_data[0], test_data[1])\n",
    "print(\"Training set accuracy %.3f%% and loss: %.3f%%\" % \n",
    "\t(train_evaluation[1] * 100, train_evaluation[0] * 100))\n",
    "print(\"Test set accuracy %.3f%% and loss: %.3f%%\" % \n",
    "\t(test_evaluation[1] * 100, test_evaluation[0] * 100))"
   ]
  }
 ],
 "metadata": {
  "interpreter": {
   "hash": "86e4912f8ca300a9529e79ea444ccc65776bffefe7965c32e119ed643a92a698"
  },
  "kernelspec": {
   "display_name": "Python 3.9.2 64-bit",
   "language": "python",
   "name": "python3"
  },
  "language_info": {
   "codemirror_mode": {
    "name": "ipython",
    "version": 3
   },
   "file_extension": ".py",
   "mimetype": "text/x-python",
   "name": "python",
   "nbconvert_exporter": "python",
   "pygments_lexer": "ipython3",
   "version": "3.9.2"
  },
  "orig_nbformat": 4
 },
 "nbformat": 4,
 "nbformat_minor": 2
}
