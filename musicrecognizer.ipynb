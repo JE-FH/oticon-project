{
 "cells": [
  {
   "cell_type": "code",
   "execution_count": 28,
   "metadata": {},
   "outputs": [],
   "source": [
    "import tensorflow as tf\n",
    "import numpy as np"
   ]
  },
  {
   "cell_type": "markdown",
   "metadata": {},
   "source": [
    "Vi starter med at loaded den givne data ind. Her er dataen sepereret i lyd med musik og lyd uden musik. Det skal vi så sætte sammen i et array og lave en array som indeholder om hvilken type hver styk data er. Her kan vi bruge numpy siden hver fil er i .npy format"
   ]
  },
  {
   "cell_type": "code",
   "execution_count": 29,
   "metadata": {},
   "outputs": [],
   "source": [
    "music_data = np.load(\"music_data.npy\")\n",
    "other_data = np.load(\"other_data.npy\")\n",
    "unknown_data = np.load(\"test_data.npy\")"
   ]
  },
  {
   "cell_type": "markdown",
   "metadata": {},
   "source": [
    "Data layoutet er her $10500$ 2d arrays af $30\\times79$ som repræsentere et log-mel spektogram udregnet fra den givne lyd sample. $x$ dimensionen er frekvens båndene mens $y$ er tids rammen"
   ]
  },
  {
   "cell_type": "markdown",
   "metadata": {},
   "source": [
    "Nu skal vi sætte `music_data` og `other_data` sammen til et array og lave en array som indeholder hvilken type hver lyd sample er. Vi vil også gerne have noget test data så vi kan evaluere hvor godt netværket er uden at overfitte Det gør vi ved at efterlade 1000 fra `music_dat` og `other_data`"
   ]
  },
  {
   "cell_type": "code",
   "execution_count": 30,
   "metadata": {},
   "outputs": [],
   "source": [
    "music_train_data = music_data[0: -1000]\n",
    "other_train_data = other_data[0: -1000]\n",
    "train_data = (\n",
    "\tnp.concatenate((music_train_data, other_train_data)),\n",
    "\tnp.concatenate((\n",
    "\t\tnp.full((len(music_train_data), 2), (1, 0)), \n",
    "\t\tnp.full((len(other_train_data), 2), (0, 1))\n",
    "\t))\n",
    ")\t\n",
    "\n",
    "music_test_data = music_data[len(music_data) - 1000:None]\n",
    "other_test_data = other_data[len(other_data) - 1000:None]\n",
    "test_data = (\n",
    "\tnp.concatenate((music_test_data, other_test_data)),\n",
    "\tnp.concatenate((\n",
    "\t\tnp.full((len(music_test_data), 2), (1, 0)),\n",
    "\t\tnp.full((len(other_test_data), 2), (0, 1))\n",
    "\t))\n",
    ")\n"
   ]
  },
  {
   "cell_type": "markdown",
   "metadata": {},
   "source": [
    "Nu har vi lavet dataset til test og træning, nu skal vi sætte vores model op"
   ]
  },
  {
   "cell_type": "code",
   "execution_count": 31,
   "metadata": {},
   "outputs": [
    {
     "name": "stdout",
     "output_type": "stream",
     "text": [
      "Model: \"sequential_1\"\n",
      "_________________________________________________________________\n",
      " Layer (type)                Output Shape              Param #   \n",
      "=================================================================\n",
      " reshape_1 (Reshape)         (None, 30, 79, 1)         0         \n",
      "                                                                 \n",
      " conv2d_3 (Conv2D)           (None, 28, 77, 3)         30        \n",
      "                                                                 \n",
      " max_pooling2d_3 (MaxPooling  (None, 14, 38, 3)        0         \n",
      " 2D)                                                             \n",
      "                                                                 \n",
      " conv2d_4 (Conv2D)           (None, 12, 36, 32)        896       \n",
      "                                                                 \n",
      " max_pooling2d_4 (MaxPooling  (None, 6, 18, 32)        0         \n",
      " 2D)                                                             \n",
      "                                                                 \n",
      " conv2d_5 (Conv2D)           (None, 4, 16, 64)         18496     \n",
      "                                                                 \n",
      " max_pooling2d_5 (MaxPooling  (None, 2, 8, 64)         0         \n",
      " 2D)                                                             \n",
      "                                                                 \n",
      " flatten_1 (Flatten)         (None, 1024)              0         \n",
      "                                                                 \n",
      " dense_1 (Dense)             (None, 2)                 2050      \n",
      "                                                                 \n",
      "=================================================================\n",
      "Total params: 21,472\n",
      "Trainable params: 21,472\n",
      "Non-trainable params: 0\n",
      "_________________________________________________________________\n"
     ]
    }
   ],
   "source": [
    "model = tf.keras.models.Sequential([\n",
    "\ttf.keras.layers.Reshape((30, 79, 1), input_shape = (30, 79)),\n",
    "\ttf.keras.layers.Conv2D(3, (3, 3), activation = \"relu\"),\n",
    "\ttf.keras.layers.MaxPool2D(),\n",
    "\ttf.keras.layers.Conv2D(32, (3, 3), activation = \"relu\"),\n",
    "\ttf.keras.layers.MaxPool2D(),\n",
    "\ttf.keras.layers.Conv2D(64, (3, 3), activation = \"relu\"),\n",
    "\ttf.keras.layers.MaxPool2D(),\n",
    "\ttf.keras.layers.Flatten(),\n",
    "\t#tf.keras.layers.Dense(1024, activation = \"relu\"),\n",
    "\t#tf.keras.layers.Dense(512, activation = \"relu\"),\n",
    "\ttf.keras.layers.Dense(2, activation = \"softmax\")\n",
    "])\n",
    "\n",
    "model.build(input_shape=(30, 79))\n",
    "\n",
    "model.summary()"
   ]
  },
  {
   "cell_type": "markdown",
   "metadata": {},
   "source": [
    "Nu hvor vi har en model, så skal den bare trænes"
   ]
  },
  {
   "cell_type": "code",
   "execution_count": 32,
   "metadata": {},
   "outputs": [
    {
     "data": {
      "text/plain": [
       "array([[7.7406534e-05, 9.9992263e-01],\n",
       "       [8.0589205e-04, 9.9919409e-01],\n",
       "       [4.1797823e-05, 9.9995816e-01],\n",
       "       [2.8487327e-04, 9.9971515e-01],\n",
       "       [7.5976911e-04, 9.9924028e-01],\n",
       "       [3.3495733e-05, 9.9996650e-01],\n",
       "       [3.3407502e-03, 9.9665928e-01],\n",
       "       [1.1044008e-03, 9.9889553e-01],\n",
       "       [4.2465082e-03, 9.9575353e-01],\n",
       "       [2.0498382e-03, 9.9795014e-01]], dtype=float32)"
      ]
     },
     "execution_count": 32,
     "metadata": {},
     "output_type": "execute_result"
    }
   ],
   "source": [
    "predictions = model(train_data[0][:10]).numpy()\n",
    "predictions"
   ]
  },
  {
   "cell_type": "markdown",
   "metadata": {},
   "source": [
    "Nu laver vi en loss funktion, siden vi kun har et output så bruger vi binarycrossentropy"
   ]
  },
  {
   "cell_type": "code",
   "execution_count": 33,
   "metadata": {},
   "outputs": [],
   "source": [
    "model.compile(optimizer='adam', loss='CategoricalCrossentropy', metrics=['accuracy'])"
   ]
  },
  {
   "cell_type": "markdown",
   "metadata": {},
   "source": [
    "Så træner vi modellen med dataen over 10 epochs"
   ]
  },
  {
   "cell_type": "code",
   "execution_count": 34,
   "metadata": {},
   "outputs": [
    {
     "name": "stdout",
     "output_type": "stream",
     "text": [
      "Epoch 1/10\n",
      "594/594 [==============================] - 10s 15ms/step - loss: 0.3708 - accuracy: 0.8547\n",
      "Epoch 2/10\n",
      "594/594 [==============================] - 9s 15ms/step - loss: 0.1517 - accuracy: 0.9433\n",
      "Epoch 3/10\n",
      "594/594 [==============================] - 9s 15ms/step - loss: 0.1003 - accuracy: 0.9650\n",
      "Epoch 4/10\n",
      "155/594 [======>.......................] - ETA: 6s - loss: 0.0895 - accuracy: 0.9681"
     ]
    }
   ],
   "source": [
    "history = model.fit(train_data[0], train_data[1], epochs=10)"
   ]
  },
  {
   "cell_type": "code",
   "execution_count": null,
   "metadata": {},
   "outputs": [
    {
     "name": "stdout",
     "output_type": "stream",
     "text": [
      "594/594 [==============================] - 4s 7ms/step - loss: 0.0247 - accuracy: 0.9924\n",
      "63/63 [==============================] - 0s 7ms/step - loss: 0.0555 - accuracy: 0.9820\n",
      "Training set accuracy 99.237% and loss: 2.466%\n",
      "Test set accuracy 98.200% and loss: 5.551%\n"
     ]
    }
   ],
   "source": [
    "train_evaluation = model.evaluate(train_data[0], train_data[1])\n",
    "test_evaluation = model.evaluate(test_data[0], test_data[1])\n",
    "print(\"Training set accuracy %.3f%% and loss: %.3f%%\" % \n",
    "\t(train_evaluation[1] * 100, train_evaluation[0] * 100))\n",
    "print(\"Test set accuracy %.3f%% and loss: %.3f%%\" % \n",
    "\t(test_evaluation[1] * 100, test_evaluation[0] * 100))"
   ]
  },
  {
   "cell_type": "code",
   "execution_count": null,
   "metadata": {},
   "outputs": [],
   "source": [
    "data = model(unknown_data).numpy()"
   ]
  },
  {
   "cell_type": "code",
   "execution_count": null,
   "metadata": {},
   "outputs": [],
   "source": [
    "f = open(\"predictions.txt\", \"w\")\n",
    "\n",
    "first = True\n",
    "\n",
    "for prediction in data:\n",
    "\tif first:\n",
    "\t\tfirst = False\n",
    "\telse:\n",
    "\t\tf.write(\"\\n\")\n",
    "\tif prediction[0] > prediction[1]:\n",
    "\t\tf.write(\"1\")\n",
    "\telse:\n",
    "\t\tf.write(\"0\")\n",
    "f.close()"
   ]
  },
  {
   "cell_type": "markdown",
   "metadata": {},
   "source": [
    "For lige at være sikker på modellen giver det vi forventer, så printer vi det lige her"
   ]
  },
  {
   "cell_type": "code",
   "execution_count": null,
   "metadata": {},
   "outputs": [
    {
     "name": "stdout",
     "output_type": "stream",
     "text": [
      "0.999 0.001\n"
     ]
    }
   ],
   "source": [
    "pred = model(music_data[:1]).numpy()[0]\n",
    "print(\"%.3f %.3f\" % (pred[0], pred[1]))\n",
    "pred = model(other_data[:1]).numpy()[0]\n",
    "print(\"%.3f %.3f\" % (pred[0], pred[1]))"
   ]
  }
 ],
 "metadata": {
  "interpreter": {
   "hash": "86e4912f8ca300a9529e79ea444ccc65776bffefe7965c32e119ed643a92a698"
  },
  "kernelspec": {
   "display_name": "Python 3.9.2 64-bit",
   "language": "python",
   "name": "python3"
  },
  "language_info": {
   "codemirror_mode": {
    "name": "ipython",
    "version": 3
   },
   "file_extension": ".py",
   "mimetype": "text/x-python",
   "name": "python",
   "nbconvert_exporter": "python",
   "pygments_lexer": "ipython3",
   "version": "3.9.2"
  },
  "orig_nbformat": 4
 },
 "nbformat": 4,
 "nbformat_minor": 2
}
