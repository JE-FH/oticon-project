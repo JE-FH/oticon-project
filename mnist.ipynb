{
 "cells": [
  {
   "cell_type": "code",
   "execution_count": 1,
   "metadata": {},
   "outputs": [],
   "source": [
    "import tensorflow as tf\n",
    "import numpy as np"
   ]
  },
  {
   "cell_type": "code",
   "execution_count": 2,
   "metadata": {},
   "outputs": [],
   "source": [
    "mnist = tf.keras.datasets.mnist\n",
    "(x_train, y_train), (x_test, y_test) = mnist.load_data()\n",
    "x_train, x_test = x_train / 255.0, x_test / 255.0"
   ]
  },
  {
   "cell_type": "markdown",
   "metadata": {},
   "source": [
    "`x_train` og `x_test` er begge to billeder af håndskrevne tal. `y_test` og `y_train` er de rigtige værdier for hvert tal\n",
    "\n",
    "forskellen på train og test er at train dataen skal bruges mens det neurale netværk lærer og test bliver brugt til at evaluere hvor godt netværket er. Siden netværket aldrig har set disse eksempler før så kan dette vise hvor godt netværket fungere på ukendt data uden at den kan overfitte."
   ]
  },
  {
   "cell_type": "code",
   "execution_count": 3,
   "metadata": {},
   "outputs": [
    {
     "data": {
      "text/plain": [
       "array([7, 2, 1, ..., 4, 5, 6], dtype=uint8)"
      ]
     },
     "execution_count": 3,
     "metadata": {},
     "output_type": "execute_result"
    }
   ],
   "source": [
    "y_test"
   ]
  },
  {
   "cell_type": "markdown",
   "metadata": {},
   "source": [
    "Nu skal netværket defineres, det her er altså hvilke lag dataen skal igennem, her skal man også definere hvordan input data ser ud"
   ]
  },
  {
   "cell_type": "code",
   "execution_count": 4,
   "metadata": {},
   "outputs": [],
   "source": [
    "model = tf.keras.models.Sequential([\n",
    "  tf.keras.layers.Flatten(input_shape=(28, 28)),\n",
    "  tf.keras.layers.Dense(128, activation='relu'),\n",
    "  tf.keras.layers.Dropout(0.2),\n",
    "  tf.keras.layers.Dense(10)\n",
    "])"
   ]
  },
  {
   "cell_type": "markdown",
   "metadata": {},
   "source": [
    "Her efter prøver vi at kører modellen vi lige har defineret, på det første billede i vores trænings data. outputtet herfra er vores 10 nodes som vi definerede i vores netværk struktur set over"
   ]
  },
  {
   "cell_type": "code",
   "execution_count": 5,
   "metadata": {},
   "outputs": [
    {
     "data": {
      "text/plain": [
       "array([[-0.16535282,  0.08182858,  0.23794667,  0.4743528 ,  0.47873574,\n",
       "         0.03385592, -0.21421972, -0.23677854, -0.32489166, -0.02790954]],\n",
       "      dtype=float32)"
      ]
     },
     "execution_count": 5,
     "metadata": {},
     "output_type": "execute_result"
    }
   ],
   "source": [
    "predictions = model(x_train[:1]).numpy()\n",
    "predictions"
   ]
  },
  {
   "cell_type": "markdown",
   "metadata": {},
   "source": [
    "Det her data er mest af alt ubrugeligt siden netværket ikke er trænet endnu og derfor bare spytter tilfældige værdier ud. Men hvert tal her svarer til hvad netværket tror tallet er fra 0-9"
   ]
  },
  {
   "cell_type": "code",
   "execution_count": 6,
   "metadata": {},
   "outputs": [
    {
     "data": {
      "text/plain": [
       "array([[0.07885799, 0.10097067, 0.1180311 , 0.14950866, 0.15016538,\n",
       "        0.09624119, 0.07509708, 0.07342195, 0.06722935, 0.09047667]],\n",
       "      dtype=float32)"
      ]
     },
     "execution_count": 6,
     "metadata": {},
     "output_type": "execute_result"
    }
   ],
   "source": [
    "tf.nn.softmax(predictions).numpy()"
   ]
  },
  {
   "cell_type": "markdown",
   "metadata": {},
   "source": [
    "Vi kan bruge softmax til at lave disse tal om til en procent der svarer til hvor stor procent netværket tror det er svaret"
   ]
  },
  {
   "cell_type": "markdown",
   "metadata": {},
   "source": [
    "Nu skal der vælges en loss funktion. Her bruger vi SparseCategoricalCrossentropy siden vi har flere kategorier, hvis vi havde 2 valg sandt eller falsk ville man nok bruge binarycrossentropy "
   ]
  },
  {
   "cell_type": "code",
   "execution_count": 7,
   "metadata": {},
   "outputs": [],
   "source": [
    "loss_fn = tf.keras.losses.SparseCategoricalCrossentropy(from_logits=True)"
   ]
  },
  {
   "cell_type": "markdown",
   "metadata": {},
   "source": [
    "Nu hvor vi har en loss fn så kan vi prøve at teste de tidligere predictions med mærkattet fra data sættet."
   ]
  },
  {
   "cell_type": "code",
   "execution_count": 8,
   "metadata": {},
   "outputs": [
    {
     "data": {
      "text/plain": [
       "2.3408978"
      ]
     },
     "execution_count": 8,
     "metadata": {},
     "output_type": "execute_result"
    }
   ],
   "source": [
    "loss_fn(y_train[:1], predictions).numpy()"
   ]
  },
  {
   "cell_type": "markdown",
   "metadata": {},
   "source": [
    "Nu har vi prøvet det hele af, så nu skal modellen bare trænes. Her kan vælge i mellem mange forskellige algoritmer, her burger vi bare adam. Metrics skal bare være accuracy med mindre man gør noget mærkeligt"
   ]
  },
  {
   "cell_type": "code",
   "execution_count": 9,
   "metadata": {},
   "outputs": [],
   "source": [
    "model.compile(optimizer='adam',\n",
    "              loss=loss_fn,\n",
    "              metrics=['accuracy'])"
   ]
  },
  {
   "cell_type": "markdown",
   "metadata": {},
   "source": [
    "Så starter vi trænningen med vores trænings data"
   ]
  },
  {
   "cell_type": "code",
   "execution_count": 10,
   "metadata": {},
   "outputs": [
    {
     "name": "stdout",
     "output_type": "stream",
     "text": [
      "Epoch 1/5\n",
      "1875/1875 [==============================] - 3s 1ms/step - loss: 0.2984 - accuracy: 0.9133\n",
      "Epoch 2/5\n",
      "1875/1875 [==============================] - 2s 1ms/step - loss: 0.1462 - accuracy: 0.9568\n",
      "Epoch 3/5\n",
      "1875/1875 [==============================] - 2s 1ms/step - loss: 0.1106 - accuracy: 0.9667\n",
      "Epoch 4/5\n",
      "1875/1875 [==============================] - 2s 1ms/step - loss: 0.0901 - accuracy: 0.9719\n",
      "Epoch 5/5\n",
      "1875/1875 [==============================] - 2s 1ms/step - loss: 0.0767 - accuracy: 0.9758\n"
     ]
    },
    {
     "data": {
      "text/plain": [
       "<keras.callbacks.History at 0x1ec2966a5e0>"
      ]
     },
     "execution_count": 10,
     "metadata": {},
     "output_type": "execute_result"
    }
   ],
   "source": [
    "model.fit(x_train, y_train, epochs=5)"
   ]
  },
  {
   "cell_type": "markdown",
   "metadata": {},
   "source": [
    "Nu hvor modellen er trænet kan vi finde ud af hvor god den er"
   ]
  },
  {
   "cell_type": "code",
   "execution_count": 11,
   "metadata": {},
   "outputs": [
    {
     "name": "stdout",
     "output_type": "stream",
     "text": [
      "313/313 - 0s - loss: 0.0769 - accuracy: 0.9759 - 322ms/epoch - 1ms/step\n"
     ]
    },
    {
     "data": {
      "text/plain": [
       "[0.07687602192163467, 0.9758999943733215]"
      ]
     },
     "execution_count": 11,
     "metadata": {},
     "output_type": "execute_result"
    }
   ],
   "source": [
    "model.evaluate(x_test,  y_test, verbose=2)"
   ]
  },
  {
   "cell_type": "code",
   "execution_count": 12,
   "metadata": {},
   "outputs": [
    {
     "data": {
      "text/plain": [
       "<tf.Tensor: shape=(5, 10), dtype=float32, numpy=\n",
       "array([[1.0338330e-07, 5.1836340e-09, 6.5386293e-06, 1.3139765e-04,\n",
       "        1.8055530e-12, 1.1917374e-06, 4.9531180e-14, 9.9985814e-01,\n",
       "        6.2987408e-07, 2.0451096e-06],\n",
       "       [2.6960418e-09, 8.5740787e-05, 9.9990129e-01, 1.1792849e-05,\n",
       "        1.9633228e-13, 1.0450751e-06, 2.3839775e-09, 3.1142008e-13,\n",
       "        1.4055037e-07, 4.6210038e-14],\n",
       "       [1.0778501e-06, 9.9758279e-01, 2.0820716e-04, 1.3445839e-04,\n",
       "        1.0964774e-05, 2.6997212e-05, 5.8267919e-06, 1.4382901e-03,\n",
       "        5.8356812e-04, 7.8728599e-06],\n",
       "       [9.9980670e-01, 1.2216687e-11, 6.0954961e-05, 1.3395494e-07,\n",
       "        2.7682168e-07, 1.5158237e-05, 1.1403263e-04, 9.0104908e-07,\n",
       "        1.3221576e-09, 1.9540662e-06],\n",
       "       [6.2404126e-07, 4.4980226e-08, 1.3313356e-05, 5.9294490e-07,\n",
       "        9.9741024e-01, 4.2079762e-08, 9.3958664e-07, 9.2096889e-05,\n",
       "        1.5024169e-07, 2.4820683e-03]], dtype=float32)>"
      ]
     },
     "execution_count": 12,
     "metadata": {},
     "output_type": "execute_result"
    }
   ],
   "source": [
    "probability_model = tf.keras.Sequential([\n",
    "  model,\n",
    "  tf.keras.layers.Softmax()\n",
    "])\n",
    "probability_model(x_test[:5])"
   ]
  }
 ],
 "metadata": {
  "interpreter": {
   "hash": "86e4912f8ca300a9529e79ea444ccc65776bffefe7965c32e119ed643a92a698"
  },
  "kernelspec": {
   "display_name": "Python 3.9.2 64-bit",
   "language": "python",
   "name": "python3"
  },
  "language_info": {
   "codemirror_mode": {
    "name": "ipython",
    "version": 3
   },
   "file_extension": ".py",
   "mimetype": "text/x-python",
   "name": "python",
   "nbconvert_exporter": "python",
   "pygments_lexer": "ipython3",
   "version": "3.9.2"
  },
  "orig_nbformat": 4
 },
 "nbformat": 4,
 "nbformat_minor": 2
}
